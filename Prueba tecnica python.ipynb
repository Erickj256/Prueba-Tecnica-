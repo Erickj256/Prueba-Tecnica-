{
 "cells": [
  {
   "cell_type": "markdown",
   "id": "f285a24e",
   "metadata": {},
   "source": [
    "### Cargamos las librerias que usaremos para este ejercicio. "
   ]
  },
  {
   "cell_type": "code",
   "execution_count": 3,
   "id": "308d69e5",
   "metadata": {},
   "outputs": [],
   "source": [
    "import requests\n",
    "import json\n",
    "import pandas as pd"
   ]
  },
  {
   "cell_type": "markdown",
   "id": "aa11d923",
   "metadata": {},
   "source": [
    "### 1.- Conectarse al enlace."
   ]
  },
  {
   "cell_type": "code",
   "execution_count": 4,
   "id": "15e6891e",
   "metadata": {},
   "outputs": [],
   "source": [
    "# realizamos la conección.\n",
    "url = \"https://api.stackexchange.com/2.2/search?order=desc&sort=activity&intitle=perl&site=stackoverflow\"\n",
    "respuesta = requests.get(url)\n",
    "texto = respuesta.text\n",
    "data = respuesta.json()"
   ]
  },
  {
   "cell_type": "markdown",
   "id": "6bfb0b87",
   "metadata": {},
   "source": [
    "### 2.- Obtener el numero de preguntas contestadas y no contestadas"
   ]
  },
  {
   "cell_type": "code",
   "execution_count": 5,
   "id": "33164676",
   "metadata": {},
   "outputs": [
    {
     "name": "stdout",
     "output_type": "stream",
     "text": [
      "hay un total de 30 preguntas de las cuales 20 preguntas son contestadas y 10 son no contestadas\n"
     ]
    }
   ],
   "source": [
    "#Creamos una funcion en la cual iteramos para encontrar el numero de preguntas contestadas y no contestadas\n",
    "def preguntas_contestadas(data):\n",
    "    contestada = 0\n",
    "    no_contestada = 0\n",
    "    for b in range(len(data[\"items\"])):\n",
    "        if data[\"items\"][b][\"is_answered\"] == True:\n",
    "            contestada += 1\n",
    "        else:\n",
    "            no_contestada += 1\n",
    "    return print(\"hay un total de {} preguntas de las cuales {} preguntas son contestadas y {} son no contestadas\".format((contestada + no_contestada),contestada,no_contestada))\n",
    "\n",
    "answer = preguntas_contestadas(data)\n",
    "answer"
   ]
  },
  {
   "cell_type": "markdown",
   "id": "4d40993b",
   "metadata": {},
   "source": [
    "### 3.- Obtener la respuesta con el menor numero de vistas"
   ]
  },
  {
   "cell_type": "code",
   "execution_count": 6,
   "id": "177577ed",
   "metadata": {},
   "outputs": [
    {
     "name": "stdout",
     "output_type": "stream",
     "text": [
      "la pregunta 74183404 es la que tiene menor número de vista con 22.\n"
     ]
    }
   ],
   "source": [
    "#iniciamos una variable llamada \"menor_vista\" en la cual ponemos una cota, si el \"viee_count\" es menor a esta\n",
    "#variable entonces este valor se le asignara, hasta llegar al valor mas pequeño\n",
    "def menor_numero_vistas(data):\n",
    "    id_pregunta = 0\n",
    "    menor_vista = 100_000\n",
    "    for x in range(len(data[\"items\"])):\n",
    "        pregunta = data[\"items\"][x][\"question_id\"]\n",
    "        minimo = data[\"items\"][x][\"view_count\"]\n",
    "        if (menor_vista > minimo):\n",
    "            menor_vista = minimo\n",
    "            id_pregunta = pregunta\n",
    "    return print(\"la pregunta {} es la que tiene menor número de vista con {}.\".format(id_pregunta,menor_vista))\n",
    "\n",
    "answer2 = menor_numero_vistas(data)\n",
    "answer2"
   ]
  },
  {
   "cell_type": "markdown",
   "id": "acfa310a",
   "metadata": {},
   "source": [
    "### 5.- Obtener la respuesta del owner que tenga mayor reputacion"
   ]
  },
  {
   "cell_type": "code",
   "execution_count": 7,
   "id": "8f59fb10",
   "metadata": {},
   "outputs": [
    {
     "name": "stdout",
     "output_type": "stream",
     "text": [
      "El user_id 534617 es el que mejor reputacion tiene con 10273\n"
     ]
    }
   ],
   "source": [
    "#al igual que el ejercicio anterior realizamos una comparacion entre la variable mayor, si el numero \n",
    "#de reputacion es mayor a la variable mayor, este se le asginara a la variable, hasta llegar al valor mas grande\n",
    "def owner_mayor_reputacion(data):\n",
    "    id_usuario = 0\n",
    "    mayor = 0\n",
    "    for i in range(len(data[\"items\"])):\n",
    "        usuario = data[\"items\"][i][\"owner\"][\"user_id\"]\n",
    "        reputacion = data[\"items\"][i][\"owner\"][\"reputation\"]\n",
    "        if (mayor < reputacion):\n",
    "            mayor = reputacion\n",
    "            id_usuario = usuario\n",
    "    return print(\"El user_id {} es el que mejor reputacion tiene con {}\".format(id_usuario,mayor))\n",
    "\n",
    "answer3 = owner_mayor_reputacion(data)\n",
    "answer3"
   ]
  }
 ],
 "metadata": {
  "kernelspec": {
   "display_name": "Python 3 (ipykernel)",
   "language": "python",
   "name": "python3"
  },
  "language_info": {
   "codemirror_mode": {
    "name": "ipython",
    "version": 3
   },
   "file_extension": ".py",
   "mimetype": "text/x-python",
   "name": "python",
   "nbconvert_exporter": "python",
   "pygments_lexer": "ipython3",
   "version": "3.9.6"
  }
 },
 "nbformat": 4,
 "nbformat_minor": 5
}
